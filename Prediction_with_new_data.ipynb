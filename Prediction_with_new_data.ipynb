{
 "cells": [
  {
   "cell_type": "markdown",
   "id": "b4ed2838-f924-448f-af94-5dad4b8c39c0",
   "metadata": {},
   "source": [
    "# Prediction With New Data"
   ]
  },
  {
   "cell_type": "code",
   "execution_count": 9,
   "id": "44de5b02-bda9-4355-b68d-be3ad7864ab0",
   "metadata": {},
   "outputs": [],
   "source": [
    "import numpy as np\n",
    "from sklearn import preprocessing\n",
    "import tensorflow as tf\n",
    "import pandas as pd\n",
    "\n",
    "# Load the model\n",
    "model = tf.keras.models.load_model(r'C:\\Users\\ramij\\Desktop\\RE_PLACE\\ML\\Code\\audiobook_classification_model.keras')\n"
   ]
  },
  {
   "cell_type": "code",
   "execution_count": 11,
   "id": "3f10bc64-7c57-48c9-8d7a-d9b515e5a9dd",
   "metadata": {},
   "outputs": [],
   "source": [
    "raw_csv_data = np.loadtxt(r'E:\\Download\\Audiobooks_data.csv', delimiter = ',')\n",
    "id_numbers = raw_csv_data[:, 0]  # Assuming the first column is the ID\n",
    "new_data = raw_csv_data[:, 1:-1]  # Data without the first and last columns"
   ]
  },
  {
   "cell_type": "code",
   "execution_count": 13,
   "id": "83f7d692-cbc5-4bc5-9061-eed8f8c93674",
   "metadata": {},
   "outputs": [
    {
     "name": "stdout",
     "output_type": "stream",
     "text": [
      "\u001b[1m441/441\u001b[0m \u001b[32m━━━━━━━━━━━━━━━━━━━━\u001b[0m\u001b[37m\u001b[0m \u001b[1m1s\u001b[0m 1ms/step\n"
     ]
    }
   ],
   "source": [
    "# Scale the inputs\n",
    "scaled_inputs = preprocessing.scale(new_data)\n",
    "\n",
    "# Make predictions\n",
    "predictions = model.predict(scaled_inputs)\n",
    "predicted_classes = np.argmax(predictions, axis=1)\n"
   ]
  },
  {
   "cell_type": "markdown",
   "id": "457676ff-94e5-4060-b6f9-8d9945ad770f",
   "metadata": {},
   "source": [
    "### Saving The Predicted Value"
   ]
  },
  {
   "cell_type": "code",
   "execution_count": 25,
   "id": "32790351-e82e-43a2-8b82-c1be778540bb",
   "metadata": {},
   "outputs": [],
   "source": [
    "id_df = pd.DataFrame(id_numbers, columns=['ID'])\n",
    "\n",
    "predicted_df = pd.DataFrame(predicted_classes, columns=['PredictedClass'])\n",
    "output_df = pd.concat([id_df, predicted_df], axis=1)\n",
    "final_output_df = output_df[output_df['PredictedClass'] == 1]\n",
    "\n",
    "final_output_df.to_csv(r'E:\\Download\\predicted_class_121.csv', index=False)\n"
   ]
  }
 ],
 "metadata": {
  "kernelspec": {
   "display_name": "Python 3 (ipykernel)",
   "language": "python",
   "name": "python3"
  },
  "language_info": {
   "codemirror_mode": {
    "name": "ipython",
    "version": 3
   },
   "file_extension": ".py",
   "mimetype": "text/x-python",
   "name": "python",
   "nbconvert_exporter": "python",
   "pygments_lexer": "ipython3",
   "version": "3.12.4"
  }
 },
 "nbformat": 4,
 "nbformat_minor": 5
}
