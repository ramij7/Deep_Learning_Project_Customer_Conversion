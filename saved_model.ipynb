{
 "cells": [
  {
   "cell_type": "code",
   "execution_count": 7,
   "id": "c39b5950-9af9-41f1-a8f9-27cf9f1a9a8f",
   "metadata": {},
   "outputs": [],
   "source": [
    "import numpy as np\n",
    "from sklearn import preprocessing\n",
    "import tensorflow as tf\n",
    "\n",
    "model = tf.keras.models.load_model(r'C:\\Users\\ramij\\Desktop\\RE_PLACE\\ML\\Code\\audiobook_classification_model.keras')\n",
    "\n",
    "raw_csv_data = np.loadtxt(r'E:\\Download\\Audiobooks_data.csv', delimiter = ',')\n",
    "new_data= raw_csv_data[:,1:-1]\n",
    "scaled_inputs = preprocessing.scale(new_data)"
   ]
  },
  {
   "cell_type": "code",
   "execution_count": 15,
   "id": "3bfd5740-853f-4b61-a44c-d0c52f8f5855",
   "metadata": {},
   "outputs": [
    {
     "name": "stdout",
     "output_type": "stream",
     "text": [
      "\u001b[1m441/441\u001b[0m \u001b[32m━━━━━━━━━━━━━━━━━━━━\u001b[0m\u001b[37m\u001b[0m \u001b[1m1s\u001b[0m 3ms/step\n"
     ]
    }
   ],
   "source": [
    "predictions = model.predict(scaled_inputs)\n",
    "predicted_classes = np.argmax(predictions, axis=1)"
   ]
  },
  {
   "cell_type": "code",
   "execution_count": 13,
   "id": "830b0ab8-968d-490d-98c6-6eda073ccf87",
   "metadata": {},
   "outputs": [],
   "source": [
    "# Save to a CSV file\n",
    "import pandas as pd\n",
    "predicted_df = pd.DataFrame(predicted_classes, columns=['PredictedClass'])\n",
    "predicted_df.to_csv(r'E:\\Download\\predicted_classes_1.csv', index=False)"
   ]
  }
 ],
 "metadata": {
  "kernelspec": {
   "display_name": "Python 3 (ipykernel)",
   "language": "python",
   "name": "python3"
  },
  "language_info": {
   "codemirror_mode": {
    "name": "ipython",
    "version": 3
   },
   "file_extension": ".py",
   "mimetype": "text/x-python",
   "name": "python",
   "nbconvert_exporter": "python",
   "pygments_lexer": "ipython3",
   "version": "3.12.4"
  }
 },
 "nbformat": 4,
 "nbformat_minor": 5
}
