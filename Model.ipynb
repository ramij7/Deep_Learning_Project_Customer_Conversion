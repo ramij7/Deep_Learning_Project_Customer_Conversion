{
 "cells": [
  {
   "cell_type": "markdown",
   "id": "bde144b7-44cf-4685-aba8-3b8a956a71da",
   "metadata": {},
   "source": [
    "# Creating Model"
   ]
  },
  {
   "cell_type": "markdown",
   "id": "d8cf1dcd-89f0-4fee-b4a1-8ba47c1ffc16",
   "metadata": {},
   "source": [
    "### Data"
   ]
  },
  {
   "cell_type": "code",
   "execution_count": 4,
   "id": "f0fa8b91-16cb-4f51-8004-5aeb9a2bc45a",
   "metadata": {},
   "outputs": [],
   "source": [
    "import numpy as np\n",
    "import tensorflow as tf\n",
    "\n",
    "npz = np.load(r'C:\\Users\\ramij\\Desktop\\RE_PLACE\\ML\\resource\\Audiobooks_data_train.npz')\n",
    "train_inputs = npz['inputs'].astype(np.float64)\n",
    "train_targets = npz['targets'].astype(np.int32)\n",
    "\n",
    "npz = np.load(r'C:\\Users\\ramij\\Desktop\\RE_PLACE\\ML\\resource\\Audiobooks_data_validation.npz')\n",
    "validation_inputs, validation_targets = npz['inputs'].astype(np.float64), npz['targets'].astype(np.int32)\n",
    "\n",
    "npz = np.load(r'C:\\Users\\ramij\\Desktop\\RE_PLACE\\ML\\resource\\Audiobooks_data_test.npz')\n",
    "test_inputs, test_targets = npz['inputs'].astype(np.float64), npz['targets'].astype(np.int32)"
   ]
  },
  {
   "cell_type": "markdown",
   "id": "4ff9533e-524a-4467-b084-6ce9c9e6bb21",
   "metadata": {},
   "source": [
    "### Model"
   ]
  },
  {
   "cell_type": "code",
   "execution_count": 6,
   "id": "d8bbb5b6-d480-4ab5-a471-50b4dba2bd02",
   "metadata": {},
   "outputs": [
    {
     "name": "stdout",
     "output_type": "stream",
     "text": [
      "Epoch 1/100\n",
      "39/39 - 5s - 124ms/step - accuracy: 0.7173 - loss: 0.5602 - val_accuracy: 0.7764 - val_loss: 0.4474\n",
      "Epoch 2/100\n",
      "39/39 - 0s - 7ms/step - accuracy: 0.7609 - loss: 0.4454 - val_accuracy: 0.7891 - val_loss: 0.3877\n",
      "Epoch 3/100\n",
      "39/39 - 0s - 8ms/step - accuracy: 0.7875 - loss: 0.4011 - val_accuracy: 0.8147 - val_loss: 0.3575\n",
      "Epoch 4/100\n",
      "39/39 - 0s - 7ms/step - accuracy: 0.7977 - loss: 0.3769 - val_accuracy: 0.8051 - val_loss: 0.3524\n",
      "Epoch 5/100\n",
      "39/39 - 0s - 5ms/step - accuracy: 0.7904 - loss: 0.3782 - val_accuracy: 0.8275 - val_loss: 0.3371\n",
      "Epoch 6/100\n",
      "39/39 - 0s - 3ms/step - accuracy: 0.7993 - loss: 0.3639 - val_accuracy: 0.7923 - val_loss: 0.3398\n",
      "Epoch 7/100\n",
      "39/39 - 0s - 2ms/step - accuracy: 0.7969 - loss: 0.3606 - val_accuracy: 0.8275 - val_loss: 0.3279\n",
      "Epoch 8/100\n",
      "39/39 - 0s - 2ms/step - accuracy: 0.8104 - loss: 0.3513 - val_accuracy: 0.8243 - val_loss: 0.3324\n",
      "Epoch 9/100\n",
      "39/39 - 0s - 2ms/step - accuracy: 0.8143 - loss: 0.3441 - val_accuracy: 0.8211 - val_loss: 0.3258\n",
      "Epoch 10/100\n",
      "39/39 - 0s - 6ms/step - accuracy: 0.8098 - loss: 0.3471 - val_accuracy: 0.8083 - val_loss: 0.3311\n",
      "Epoch 11/100\n",
      "39/39 - 0s - 7ms/step - accuracy: 0.8051 - loss: 0.3495 - val_accuracy: 0.8275 - val_loss: 0.3194\n",
      "Epoch 12/100\n",
      "39/39 - 0s - 7ms/step - accuracy: 0.8088 - loss: 0.3422 - val_accuracy: 0.8275 - val_loss: 0.3183\n",
      "Epoch 13/100\n",
      "39/39 - 0s - 7ms/step - accuracy: 0.8188 - loss: 0.3333 - val_accuracy: 0.8275 - val_loss: 0.3121\n",
      "Epoch 14/100\n",
      "39/39 - 0s - 7ms/step - accuracy: 0.8198 - loss: 0.3303 - val_accuracy: 0.8243 - val_loss: 0.3173\n",
      "Epoch 15/100\n",
      "39/39 - 0s - 7ms/step - accuracy: 0.8156 - loss: 0.3450 - val_accuracy: 0.8371 - val_loss: 0.3144\n"
     ]
    },
    {
     "data": {
      "text/plain": [
       "<keras.src.callbacks.history.History at 0x266d7e44110>"
      ]
     },
     "execution_count": 6,
     "metadata": {},
     "output_type": "execute_result"
    }
   ],
   "source": [
    "input_size = 10\n",
    "output_size = 2\n",
    "hidden_layer_size = 50\n",
    "    \n",
    "model = tf.keras.Sequential([\n",
    "    tf.keras.layers.Dense(hidden_layer_size, activation='relu'), # 1st hidden layer\n",
    "    tf.keras.layers.Dense(hidden_layer_size, activation='relu'), # 2nd hidden layer\n",
    "    tf.keras.layers.Dense(hidden_layer_size, activation='relu'),\n",
    "    tf.keras.layers.Dense(output_size, activation='softmax') # output layer\n",
    "])\n",
    "\n",
    "model.compile(optimizer='adam', loss='sparse_categorical_crossentropy', metrics=['accuracy'])\n",
    "\n",
    "batch_size = 100\n",
    "max_epochs = 100\n",
    "\n",
    "early_stopping = tf.keras.callbacks.EarlyStopping(patience=2)# set an early stopping mechanism\n",
    "\n",
    "model.fit(train_inputs, # train inputs\n",
    "          train_targets, # train targets\n",
    "          batch_size=batch_size, # batch size\n",
    "          epochs=max_epochs, \n",
    "          callbacks=[early_stopping], # early stopping\n",
    "          validation_data=(validation_inputs, validation_targets), # validation data\n",
    "          verbose = 2 \n",
    "          )  "
   ]
  },
  {
   "cell_type": "markdown",
   "id": "4bd16ea2-dbce-4fb7-b389-8a112e062d5f",
   "metadata": {},
   "source": [
    "### TEST\n"
   ]
  },
  {
   "cell_type": "code",
   "execution_count": 8,
   "id": "f3ba973d-dee0-47e0-b193-1dae25248cf1",
   "metadata": {},
   "outputs": [
    {
     "name": "stdout",
     "output_type": "stream",
     "text": [
      "\u001b[1m12/12\u001b[0m \u001b[32m━━━━━━━━━━━━━━━━━━━━\u001b[0m\u001b[37m\u001b[0m \u001b[1m0s\u001b[0m 4ms/step - accuracy: 0.8256 - loss: 0.3190 \n"
     ]
    }
   ],
   "source": [
    "test_loss, test_accuracy = model.evaluate(test_inputs, test_targets)"
   ]
  },
  {
   "cell_type": "code",
   "execution_count": 9,
   "id": "ea0da2ff-e471-4481-b9f7-1bd15ed7df5d",
   "metadata": {},
   "outputs": [],
   "source": [
    "model.save('audiobook_classification_model.keras')"
   ]
  },
  {
   "cell_type": "code",
   "execution_count": null,
   "id": "1fae7cee-f7ee-4722-9a37-d92ddcd8c8c4",
   "metadata": {},
   "outputs": [],
   "source": []
  }
 ],
 "metadata": {
  "kernelspec": {
   "display_name": "Python (tf-env)",
   "language": "python",
   "name": "tf-env"
  },
  "language_info": {
   "codemirror_mode": {
    "name": "ipython",
    "version": 3
   },
   "file_extension": ".py",
   "mimetype": "text/x-python",
   "name": "python",
   "nbconvert_exporter": "python",
   "pygments_lexer": "ipython3",
   "version": "3.12.4"
  }
 },
 "nbformat": 4,
 "nbformat_minor": 5
}
